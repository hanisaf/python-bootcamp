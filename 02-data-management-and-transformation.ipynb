{
 "cells": [
  {
   "cell_type": "markdown",
   "metadata": {
    "collapsed": true
   },
   "source": [
    "The goal of this exercise is to use all the concepts we learned in the warm-up sessions.\n",
    "\n",
    "We have data about Internet companies. The data is organized in a dictionary, each key corresponds to a column in the [spreadsheet](./data/InternetCompanies.csv) \n",
    "\n",
    "- Compute mean market capitalization\n",
    "- Compute mean cash\n",
    "- Compute the cash to revenue ratio with two decimal places in descending order"
   ]
  },
  {
   "cell_type": "code",
   "execution_count": null,
   "metadata": {
    "collapsed": true
   },
   "outputs": [],
   "source": []
  }
 ],
 "metadata": {
  "kernelspec": {
   "display_name": "Python 3",
   "language": "python",
   "name": "python3"
  },
  "language_info": {
   "codemirror_mode": {
    "name": "ipython",
    "version": 3
   },
   "file_extension": ".py",
   "mimetype": "text/x-python",
   "name": "python",
   "nbconvert_exporter": "python",
   "pygments_lexer": "ipython3",
   "version": "3.6.3"
  }
 },
 "nbformat": 4,
 "nbformat_minor": 2
}
