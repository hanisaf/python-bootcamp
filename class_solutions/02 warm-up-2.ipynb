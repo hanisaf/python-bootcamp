{
 "cells": [
  {
   "cell_type": "markdown",
   "metadata": {},
   "source": [
    "1- load the gapminder data"
   ]
  },
  {
   "cell_type": "code",
   "execution_count": 3,
   "metadata": {},
   "outputs": [],
   "source": [
    "import pandas as pd"
   ]
  },
  {
   "cell_type": "code",
   "execution_count": 5,
   "metadata": {},
   "outputs": [],
   "source": [
    "data = pd.read_csv(\"./data/gapminder.tsv\", delimiter='\\t')"
   ]
  },
  {
   "cell_type": "code",
   "execution_count": 6,
   "metadata": {},
   "outputs": [
    {
     "data": {
      "text/html": [
       "<div>\n",
       "<style scoped>\n",
       "    .dataframe tbody tr th:only-of-type {\n",
       "        vertical-align: middle;\n",
       "    }\n",
       "\n",
       "    .dataframe tbody tr th {\n",
       "        vertical-align: top;\n",
       "    }\n",
       "\n",
       "    .dataframe thead th {\n",
       "        text-align: right;\n",
       "    }\n",
       "</style>\n",
       "<table border=\"1\" class=\"dataframe\">\n",
       "  <thead>\n",
       "    <tr style=\"text-align: right;\">\n",
       "      <th></th>\n",
       "      <th>country</th>\n",
       "      <th>continent</th>\n",
       "      <th>year</th>\n",
       "      <th>lifeExp</th>\n",
       "      <th>pop</th>\n",
       "      <th>gdpPercap</th>\n",
       "    </tr>\n",
       "  </thead>\n",
       "  <tbody>\n",
       "    <tr>\n",
       "      <th>0</th>\n",
       "      <td>Afghanistan</td>\n",
       "      <td>Asia</td>\n",
       "      <td>1952</td>\n",
       "      <td>28.801</td>\n",
       "      <td>8425333</td>\n",
       "      <td>779.445314</td>\n",
       "    </tr>\n",
       "    <tr>\n",
       "      <th>1</th>\n",
       "      <td>Afghanistan</td>\n",
       "      <td>Asia</td>\n",
       "      <td>1957</td>\n",
       "      <td>30.332</td>\n",
       "      <td>9240934</td>\n",
       "      <td>820.853030</td>\n",
       "    </tr>\n",
       "    <tr>\n",
       "      <th>2</th>\n",
       "      <td>Afghanistan</td>\n",
       "      <td>Asia</td>\n",
       "      <td>1962</td>\n",
       "      <td>31.997</td>\n",
       "      <td>10267083</td>\n",
       "      <td>853.100710</td>\n",
       "    </tr>\n",
       "    <tr>\n",
       "      <th>3</th>\n",
       "      <td>Afghanistan</td>\n",
       "      <td>Asia</td>\n",
       "      <td>1967</td>\n",
       "      <td>34.020</td>\n",
       "      <td>11537966</td>\n",
       "      <td>836.197138</td>\n",
       "    </tr>\n",
       "    <tr>\n",
       "      <th>4</th>\n",
       "      <td>Afghanistan</td>\n",
       "      <td>Asia</td>\n",
       "      <td>1972</td>\n",
       "      <td>36.088</td>\n",
       "      <td>13079460</td>\n",
       "      <td>739.981106</td>\n",
       "    </tr>\n",
       "  </tbody>\n",
       "</table>\n",
       "</div>"
      ],
      "text/plain": [
       "       country continent  year  lifeExp       pop   gdpPercap\n",
       "0  Afghanistan      Asia  1952   28.801   8425333  779.445314\n",
       "1  Afghanistan      Asia  1957   30.332   9240934  820.853030\n",
       "2  Afghanistan      Asia  1962   31.997  10267083  853.100710\n",
       "3  Afghanistan      Asia  1967   34.020  11537966  836.197138\n",
       "4  Afghanistan      Asia  1972   36.088  13079460  739.981106"
      ]
     },
     "execution_count": 6,
     "metadata": {},
     "output_type": "execute_result"
    }
   ],
   "source": [
    "data.head()"
   ]
  },
  {
   "cell_type": "markdown",
   "metadata": {},
   "source": [
    "2- What's the average life expectancy"
   ]
  },
  {
   "cell_type": "code",
   "execution_count": 7,
   "metadata": {},
   "outputs": [
    {
     "data": {
      "text/html": [
       "<div>\n",
       "<style scoped>\n",
       "    .dataframe tbody tr th:only-of-type {\n",
       "        vertical-align: middle;\n",
       "    }\n",
       "\n",
       "    .dataframe tbody tr th {\n",
       "        vertical-align: top;\n",
       "    }\n",
       "\n",
       "    .dataframe thead th {\n",
       "        text-align: right;\n",
       "    }\n",
       "</style>\n",
       "<table border=\"1\" class=\"dataframe\">\n",
       "  <thead>\n",
       "    <tr style=\"text-align: right;\">\n",
       "      <th></th>\n",
       "      <th>year</th>\n",
       "      <th>lifeExp</th>\n",
       "      <th>pop</th>\n",
       "      <th>gdpPercap</th>\n",
       "    </tr>\n",
       "  </thead>\n",
       "  <tbody>\n",
       "    <tr>\n",
       "      <th>count</th>\n",
       "      <td>1704.00000</td>\n",
       "      <td>1704.000000</td>\n",
       "      <td>1.704000e+03</td>\n",
       "      <td>1704.000000</td>\n",
       "    </tr>\n",
       "    <tr>\n",
       "      <th>mean</th>\n",
       "      <td>1979.50000</td>\n",
       "      <td>59.474439</td>\n",
       "      <td>2.960121e+07</td>\n",
       "      <td>7215.327081</td>\n",
       "    </tr>\n",
       "    <tr>\n",
       "      <th>std</th>\n",
       "      <td>17.26533</td>\n",
       "      <td>12.917107</td>\n",
       "      <td>1.061579e+08</td>\n",
       "      <td>9857.454543</td>\n",
       "    </tr>\n",
       "    <tr>\n",
       "      <th>min</th>\n",
       "      <td>1952.00000</td>\n",
       "      <td>23.599000</td>\n",
       "      <td>6.001100e+04</td>\n",
       "      <td>241.165877</td>\n",
       "    </tr>\n",
       "    <tr>\n",
       "      <th>25%</th>\n",
       "      <td>1965.75000</td>\n",
       "      <td>48.198000</td>\n",
       "      <td>2.793664e+06</td>\n",
       "      <td>1202.060309</td>\n",
       "    </tr>\n",
       "    <tr>\n",
       "      <th>50%</th>\n",
       "      <td>1979.50000</td>\n",
       "      <td>60.712500</td>\n",
       "      <td>7.023596e+06</td>\n",
       "      <td>3531.846989</td>\n",
       "    </tr>\n",
       "    <tr>\n",
       "      <th>75%</th>\n",
       "      <td>1993.25000</td>\n",
       "      <td>70.845500</td>\n",
       "      <td>1.958522e+07</td>\n",
       "      <td>9325.462346</td>\n",
       "    </tr>\n",
       "    <tr>\n",
       "      <th>max</th>\n",
       "      <td>2007.00000</td>\n",
       "      <td>82.603000</td>\n",
       "      <td>1.318683e+09</td>\n",
       "      <td>113523.132900</td>\n",
       "    </tr>\n",
       "  </tbody>\n",
       "</table>\n",
       "</div>"
      ],
      "text/plain": [
       "             year      lifeExp           pop      gdpPercap\n",
       "count  1704.00000  1704.000000  1.704000e+03    1704.000000\n",
       "mean   1979.50000    59.474439  2.960121e+07    7215.327081\n",
       "std      17.26533    12.917107  1.061579e+08    9857.454543\n",
       "min    1952.00000    23.599000  6.001100e+04     241.165877\n",
       "25%    1965.75000    48.198000  2.793664e+06    1202.060309\n",
       "50%    1979.50000    60.712500  7.023596e+06    3531.846989\n",
       "75%    1993.25000    70.845500  1.958522e+07    9325.462346\n",
       "max    2007.00000    82.603000  1.318683e+09  113523.132900"
      ]
     },
     "execution_count": 7,
     "metadata": {},
     "output_type": "execute_result"
    }
   ],
   "source": [
    "data.describe()"
   ]
  },
  {
   "cell_type": "code",
   "execution_count": 12,
   "metadata": {},
   "outputs": [],
   "source": [
    "y=data.lifeExp.mean()"
   ]
  },
  {
   "cell_type": "code",
   "execution_count": 13,
   "metadata": {},
   "outputs": [
    {
     "data": {
      "text/plain": [
       "59.47443936619713"
      ]
     },
     "execution_count": 13,
     "metadata": {},
     "output_type": "execute_result"
    }
   ],
   "source": [
    "y"
   ]
  },
  {
   "cell_type": "markdown",
   "metadata": {},
   "source": [
    "3- what's the average lifeExp in Afghanistan?"
   ]
  },
  {
   "cell_type": "code",
   "execution_count": 20,
   "metadata": {},
   "outputs": [
    {
     "data": {
      "text/plain": [
       "37.478833333333334"
      ]
     },
     "execution_count": 20,
     "metadata": {},
     "output_type": "execute_result"
    }
   ],
   "source": [
    "data[data.country=='Afghanistan']['lifeExp'].mean()"
   ]
  },
  {
   "cell_type": "markdown",
   "metadata": {},
   "source": [
    "4- what's the average lifeExp per country?"
   ]
  },
  {
   "cell_type": "code",
   "execution_count": 24,
   "metadata": {},
   "outputs": [],
   "source": [
    "countries = set(data.country)"
   ]
  },
  {
   "cell_type": "code",
   "execution_count": 25,
   "metadata": {},
   "outputs": [
    {
     "name": "stdout",
     "output_type": "stream",
     "text": [
      "Congo, Rep. 52.501916666666666\n",
      "Croatia 70.05591666666668\n",
      "Poland 70.17691666666666\n",
      "Chile 67.43091666666668\n",
      "Turkey 59.69641666666667\n",
      "Zambia 45.99633333333333\n",
      "Austria 73.10324999999999\n",
      "Slovak Republic 70.69608333333333\n",
      "Switzerland 75.56508333333333\n",
      "Netherlands 75.6485\n",
      "Norway 75.84299999999999\n",
      "Rwanda 41.48158333333333\n",
      "Philippines 60.96725\n",
      "Lesotho 50.00708333333333\n",
      "Taiwan 70.33666666666666\n",
      "United Kingdom 73.92258333333332\n",
      "Djibouti 46.38075\n",
      "Somalia 40.98866666666667\n",
      "Korea, Rep. 65.001\n",
      "Cameroon 48.1285\n",
      "Indonesia 54.33574999999999\n",
      "Cambodia 47.90275\n",
      "Singapore 71.22025\n",
      "Benin 48.77991666666666\n",
      "Saudi Arabia 58.67875000000001\n",
      "Nepal 48.98633333333333\n",
      "Iraq 56.58175\n",
      "Argentina 69.06041666666665\n",
      "New Zealand 73.9895\n",
      "Jamaica 68.74933333333333\n",
      "Finland 72.99191666666667\n",
      "Sudan 48.4005\n",
      "Haiti 50.16525000000001\n",
      "Eritrea 45.999249999999996\n",
      "Reunion 66.64425000000001\n",
      "Vietnam 57.479499999999994\n",
      "Guinea 43.23983333333334\n",
      "Nicaragua 58.34941666666666\n",
      "Cuba 71.04508333333335\n",
      "Nigeria 43.58133333333333\n",
      "Hong Kong, China 73.49283333333334\n",
      "Greece 73.73316666666666\n",
      "South Africa 53.99316666666666\n",
      "Gabon 51.22050000000001\n",
      "Burundi 44.81733333333333\n",
      "Mozambique 40.3795\n",
      "Senegal 50.625916666666676\n",
      "Liberia 42.47625\n",
      "Portugal 70.41983333333333\n",
      "Chad 46.77358333333333\n",
      "United States 73.4785\n",
      "Brazil 62.23949999999999\n",
      "Pakistan 54.88225\n",
      "Sweden 76.177\n",
      "Montenegro 70.29916666666666\n",
      "Canada 74.90275\n",
      "Iceland 76.51141666666666\n",
      "Mongolia 55.89033333333333\n",
      "Namibia 53.49133333333333\n",
      "Oman 58.44266666666667\n",
      "Sri Lanka 66.52608333333332\n",
      "Equatorial Guinea 42.96\n",
      "Mexico 65.40883333333333\n",
      "Congo, Dem. Rep. 44.543749999999996\n",
      "Bosnia and Herzegovina 67.70783333333334\n",
      "Hungary 69.39316666666666\n",
      "Korea, Dem. Rep. 63.60733333333334\n",
      "Kuwait 68.92233333333333\n",
      "Swaziland 49.00241666666667\n",
      "Tunisia 60.721000000000004\n",
      "Honduras 57.92083333333334\n",
      "Mauritania 52.302083333333336\n",
      "Iran 58.63658333333334\n",
      "Romania 68.29066666666667\n",
      "Afghanistan 37.478833333333334\n",
      "Ecuador 62.816833333333335\n",
      "Albania 68.43291666666669\n",
      "Malawi 43.35158333333334\n",
      "Botswana 54.5975\n",
      "Central African Republic 43.86691666666667\n",
      "Spain 74.20341666666667\n",
      "Paraguay 66.80908333333333\n",
      "Puerto Rico 72.73933333333333\n",
      "Zimbabwe 52.66316666666666\n",
      "Serbia 68.55099999999999\n",
      "Thailand 62.20024999999999\n",
      "West Bank and Gaza 60.32866666666667\n",
      "Bangladesh 49.83408333333333\n",
      "Tanzania 47.91233333333334\n",
      "Bulgaria 69.74374999999999\n",
      "Ethiopia 44.47575\n",
      "Bolivia 52.50458333333333\n",
      "Egypt 56.242999999999995\n",
      "Sierra Leone 36.76916666666667\n",
      "Venezuela 66.58066666666666\n",
      "Uganda 47.618833333333335\n",
      "Guinea-Bissau 39.21025\n",
      "Kenya 52.681000000000004\n",
      "Czech Republic 71.5105\n",
      "China 61.785140000000006\n",
      "Algeria 59.03016666666667\n",
      "France 74.34891666666668\n",
      "Mauritius 64.95325000000001\n",
      "Slovenia 71.60074999999999\n",
      "Denmark 74.37016666666668\n",
      "Sao Tome and Principe 57.89633333333334\n",
      "Belgium 73.64175\n",
      "Australia 74.66291666666667\n",
      "Uruguay 70.78158333333333\n",
      "Angola 37.883500000000005\n",
      "Niger 44.55866666666666\n",
      "Cote d'Ivoire 48.43616666666666\n",
      "Trinidad and Tobago 66.828\n",
      "Myanmar 53.321666666666665\n",
      "Japan 74.82691666666666\n",
      "Guatemala 56.72941666666666\n",
      "India 53.166083333333326\n",
      "Germany 73.44441666666665\n",
      "Peru 58.859333333333346\n",
      "Colombia 63.89775\n",
      "Syria 61.34616666666667\n",
      "El Salvador 59.63333333333333\n",
      "Mali 43.4135\n",
      "Israel 73.64583333333333\n",
      "Italy 74.01383333333332\n",
      "Bahrain 65.60566666666666\n",
      "Gambia 44.40058333333332\n",
      "Costa Rica 70.18141666666666\n",
      "Burkina Faso 44.693999999999996\n",
      "Ireland 73.01725\n",
      "Morocco 57.60883333333333\n",
      "Dominican Republic 61.5545\n",
      "Yemen, Rep. 46.78041666666667\n",
      "Lebanon 65.86566666666666\n",
      "Jordan 59.78641666666666\n",
      "Comoros 52.381750000000004\n",
      "Madagascar 47.77058333333334\n",
      "Panama 67.80174999999998\n",
      "Ghana 52.34066666666667\n",
      "Malaysia 64.27958333333332\n",
      "Togo 51.49875\n",
      "Libya 59.30416666666667\n"
     ]
    }
   ],
   "source": [
    "for c in countries:\n",
    "    print(c, data[data.country==c]['lifeExp'].mean())"
   ]
  },
  {
   "cell_type": "code",
   "execution_count": 27,
   "metadata": {},
   "outputs": [],
   "source": [
    "agg = data.groupby('country')"
   ]
  },
  {
   "cell_type": "code",
   "execution_count": 31,
   "metadata": {},
   "outputs": [],
   "source": [
    "res = agg['lifeExp'].mean()"
   ]
  },
  {
   "cell_type": "markdown",
   "metadata": {},
   "source": [
    "5- Export this data to a csv file ```life.csv```"
   ]
  },
  {
   "cell_type": "code",
   "execution_count": 32,
   "metadata": {
    "collapsed": true
   },
   "outputs": [],
   "source": [
    "res.to_csv(\"./data/life.csv\")"
   ]
  },
  {
   "cell_type": "code",
   "execution_count": null,
   "metadata": {
    "collapsed": true
   },
   "outputs": [],
   "source": []
  }
 ],
 "metadata": {
  "kernelspec": {
   "display_name": "Python 3",
   "language": "python",
   "name": "python3"
  },
  "language_info": {
   "codemirror_mode": {
    "name": "ipython",
    "version": 3
   },
   "file_extension": ".py",
   "mimetype": "text/x-python",
   "name": "python",
   "nbconvert_exporter": "python",
   "pygments_lexer": "ipython3",
   "version": "3.6.3"
  }
 },
 "nbformat": 4,
 "nbformat_minor": 2
}
