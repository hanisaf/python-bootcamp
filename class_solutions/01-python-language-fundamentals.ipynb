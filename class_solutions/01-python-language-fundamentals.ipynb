{
 "cells": [
  {
   "cell_type": "markdown",
   "metadata": {
    "collapsed": true
   },
   "source": [
    "The goal of this exercise is to use all the concepts we learned in the warm-up sessions.\n",
    "\n",
    "We have data about Internet companies. The data is organized in a dictionary, each key corresponds to a column in the [spreadsheet](./data/InternetCompanies.csv) \n",
    "\n",
    "- Compute mean market capitalization\n",
    "- Compute mean cash\n",
    "- Compute the cash to revenue ratio with two decimal places in descending order"
   ]
  },
  {
   "cell_type": "code",
   "execution_count": 1,
   "metadata": {
    "collapsed": true
   },
   "outputs": [],
   "source": [
    "data = {\n",
    " 'Company': ['Apple',\n",
    "             'Google/Alphabet',\n",
    "             'Amazon',\n",
    "             'Facebook',\n",
    "             'Tencent',\n",
    "             'Alibaba',\n",
    "             'Priceline Group',\n",
    "             'Uber',\n",
    "             'Baidu',\n",
    "             'Ant Financial',\n",
    "             'Salesforce',\n",
    "             'Xiaomi',\n",
    "             'Paypal',\n",
    "             'Netflix',\n",
    "             'Yahoo',\n",
    "             'JD.com',\n",
    "             'eBay',\n",
    "             'Airbnb',\n",
    "             'Yahoo Japan',\n",
    "             'Didi Kuaidi'],\n",
    " 'Country': ['USA',\n",
    "             'USA',\n",
    "             'USA',\n",
    "             'USA',\n",
    "             'China',\n",
    "             'China',\n",
    "             'USA',\n",
    "             'USA',\n",
    "             'China',\n",
    "             'China',\n",
    "             'USA',\n",
    "             'China',\n",
    "             'USA',\n",
    "             'USA',\n",
    "             'USA',\n",
    "             'China',\n",
    "             'USA',\n",
    "             'USA',\n",
    "             'Japan',\n",
    "             'China'],\n",
    " 'MarketCap': [' $547 ',\n",
    "               ' $510 ',\n",
    "               ' $341 ',\n",
    "               ' $340 ',\n",
    "               ' $206 ',\n",
    "               ' $205 ',\n",
    "               ' $63 ',\n",
    "               ' $63 ',\n",
    "               ' $62 ',\n",
    "               ' $60 ',\n",
    "               ' $57 ',\n",
    "               ' $46 ',\n",
    "               ' $46 ',\n",
    "               ' $44 ',\n",
    "               ' $36 ',\n",
    "               ' $34 ',\n",
    "               ' $28 ',\n",
    "               ' $26 ',\n",
    "               ' $26 ',\n",
    "               ' $25 '],\n",
    " 'Revenue': [' $235 ',\n",
    "             ' $75 ',\n",
    "             ' $107 ',\n",
    "             ' $18 ',\n",
    "             ' $16 ',\n",
    "             ' $15 ',\n",
    "             ' $9 ',\n",
    "             ' $-   ',\n",
    "             ' $10 ',\n",
    "             ' $-   ',\n",
    "             ' $7 ',\n",
    "             ' $-   ',\n",
    "             ' $9 ',\n",
    "             ' $7 ',\n",
    "             ' $5 ',\n",
    "             ' $28 ',\n",
    "             ' $9 ',\n",
    "             ' $-   ',\n",
    "             ' $5 ',\n",
    "             ' $-   '],\n",
    "    'Cash': [' $233 ',\n",
    "              ' $79 ',\n",
    "              ' $16 ',\n",
    "              ' $21 ',\n",
    "              ' $14 ',\n",
    "              ' $18 ',\n",
    "              ' $11 ',\n",
    "              ' $-   ',\n",
    "              ' $11 ',\n",
    "              ' $-   ',\n",
    "              ' $4 ',\n",
    "              ' $-   ',\n",
    "              ' $6 ',\n",
    "              ' $2 ',\n",
    "              ' $10 ',\n",
    "              ' $5 ',\n",
    "              ' $11 ',\n",
    "              ' $-   ',\n",
    "              ' $5 ',\n",
    "              ' $-   ']\n",
    "}"
   ]
  },
  {
   "cell_type": "code",
   "execution_count": 2,
   "metadata": {},
   "outputs": [
    {
     "data": {
      "text/plain": [
       "dict_keys(['Company', 'Country', 'MarketCap', 'Revenue', 'Cash'])"
      ]
     },
     "execution_count": 2,
     "metadata": {},
     "output_type": "execute_result"
    }
   ],
   "source": [
    "data.keys()"
   ]
  },
  {
   "cell_type": "code",
   "execution_count": 4,
   "metadata": {},
   "outputs": [
    {
     "data": {
      "text/plain": [
       "[' $547 ',\n",
       " ' $510 ',\n",
       " ' $341 ',\n",
       " ' $340 ',\n",
       " ' $206 ',\n",
       " ' $205 ',\n",
       " ' $63 ',\n",
       " ' $63 ',\n",
       " ' $62 ',\n",
       " ' $60 ',\n",
       " ' $57 ',\n",
       " ' $46 ',\n",
       " ' $46 ',\n",
       " ' $44 ',\n",
       " ' $36 ',\n",
       " ' $34 ',\n",
       " ' $28 ',\n",
       " ' $26 ',\n",
       " ' $26 ',\n",
       " ' $25 ']"
      ]
     },
     "execution_count": 4,
     "metadata": {},
     "output_type": "execute_result"
    }
   ],
   "source": [
    "data['MarketCap']"
   ]
  },
  {
   "cell_type": "code",
   "execution_count": 30,
   "metadata": {},
   "outputs": [
    {
     "ename": "ValueError",
     "evalue": "could not convert string to float: '-'",
     "output_type": "error",
     "traceback": [
      "\u001b[0;31m---------------------------------------------------------------------------\u001b[0m",
      "\u001b[0;31mValueError\u001b[0m                                Traceback (most recent call last)",
      "\u001b[0;32m<ipython-input-30-4eaf2d711875>\u001b[0m in \u001b[0;36m<module>\u001b[0;34m()\u001b[0m\n\u001b[0;32m----> 1\u001b[0;31m \u001b[0;36m1000000\u001b[0m\u001b[0;34m*\u001b[0m\u001b[0mfloat\u001b[0m\u001b[0;34m(\u001b[0m\u001b[0;34m' $- '\u001b[0m\u001b[0;34m[\u001b[0m\u001b[0;36m2\u001b[0m\u001b[0;34m:\u001b[0m\u001b[0;34m-\u001b[0m\u001b[0;36m1\u001b[0m\u001b[0;34m]\u001b[0m\u001b[0;34m)\u001b[0m\u001b[0;34m\u001b[0m\u001b[0m\n\u001b[0m",
      "\u001b[0;31mValueError\u001b[0m: could not convert string to float: '-'"
     ]
    }
   ],
   "source": [
    "1000000*float(' $- '[2:-1])"
   ]
  },
  {
   "cell_type": "code",
   "execution_count": 42,
   "metadata": {
    "collapsed": true
   },
   "outputs": [],
   "source": [
    "def parse_number(num_str):\n",
    "    if num_str[2]==\"-\":\n",
    "        return -1\n",
    "    else:\n",
    "        return 1000000*float(num_str[2:-1])"
   ]
  },
  {
   "cell_type": "markdown",
   "metadata": {},
   "source": [
    "Use list comprehension"
   ]
  },
  {
   "cell_type": "code",
   "execution_count": 27,
   "metadata": {},
   "outputs": [],
   "source": [
    "res1 = [ parse_number(x) for x in data[\"MarketCap\"] ]"
   ]
  },
  {
   "cell_type": "code",
   "execution_count": 15,
   "metadata": {},
   "outputs": [
    {
     "data": {
      "text/plain": [
       "[547000000.0,\n",
       " 510000000.0,\n",
       " 341000000.0,\n",
       " 340000000.0,\n",
       " 206000000.0,\n",
       " 205000000.0,\n",
       " 63000000.0,\n",
       " 63000000.0,\n",
       " 62000000.0,\n",
       " 60000000.0,\n",
       " 57000000.0,\n",
       " 46000000.0,\n",
       " 46000000.0,\n",
       " 44000000.0,\n",
       " 36000000.0,\n",
       " 34000000.0,\n",
       " 28000000.0,\n",
       " 26000000.0,\n",
       " 26000000.0,\n",
       " 25000000.0]"
      ]
     },
     "execution_count": 15,
     "metadata": {},
     "output_type": "execute_result"
    }
   ],
   "source": [
    "res1"
   ]
  },
  {
   "cell_type": "markdown",
   "metadata": {},
   "source": [
    "using loops"
   ]
  },
  {
   "cell_type": "code",
   "execution_count": 16,
   "metadata": {
    "collapsed": true
   },
   "outputs": [],
   "source": [
    "res2 = []\n",
    "for i in data[\"MarketCap\"]:\n",
    "    c = parse_number(i)\n",
    "    res2.append(c)"
   ]
  },
  {
   "cell_type": "code",
   "execution_count": 18,
   "metadata": {},
   "outputs": [
    {
     "data": {
      "text/plain": [
       "[547000000.0,\n",
       " 510000000.0,\n",
       " 341000000.0,\n",
       " 340000000.0,\n",
       " 206000000.0,\n",
       " 205000000.0,\n",
       " 63000000.0,\n",
       " 63000000.0,\n",
       " 62000000.0,\n",
       " 60000000.0,\n",
       " 57000000.0,\n",
       " 46000000.0,\n",
       " 46000000.0,\n",
       " 44000000.0,\n",
       " 36000000.0,\n",
       " 34000000.0,\n",
       " 28000000.0,\n",
       " 26000000.0,\n",
       " 26000000.0,\n",
       " 25000000.0]"
      ]
     },
     "execution_count": 18,
     "metadata": {},
     "output_type": "execute_result"
    }
   ],
   "source": [
    "res2"
   ]
  },
  {
   "cell_type": "markdown",
   "metadata": {},
   "source": [
    "Using map"
   ]
  },
  {
   "cell_type": "code",
   "execution_count": 21,
   "metadata": {
    "collapsed": true
   },
   "outputs": [],
   "source": [
    "res3 = list(map(parse_number, data['MarketCap']))"
   ]
  },
  {
   "cell_type": "code",
   "execution_count": 22,
   "metadata": {},
   "outputs": [
    {
     "data": {
      "text/plain": [
       "[547000000.0,\n",
       " 510000000.0,\n",
       " 341000000.0,\n",
       " 340000000.0,\n",
       " 206000000.0,\n",
       " 205000000.0,\n",
       " 63000000.0,\n",
       " 63000000.0,\n",
       " 62000000.0,\n",
       " 60000000.0,\n",
       " 57000000.0,\n",
       " 46000000.0,\n",
       " 46000000.0,\n",
       " 44000000.0,\n",
       " 36000000.0,\n",
       " 34000000.0,\n",
       " 28000000.0,\n",
       " 26000000.0,\n",
       " 26000000.0,\n",
       " 25000000.0]"
      ]
     },
     "execution_count": 22,
     "metadata": {},
     "output_type": "execute_result"
    }
   ],
   "source": [
    "res3"
   ]
  },
  {
   "cell_type": "code",
   "execution_count": 24,
   "metadata": {},
   "outputs": [],
   "source": [
    "mean_market_cap = sum(res1)/len(res1)"
   ]
  },
  {
   "cell_type": "code",
   "execution_count": 25,
   "metadata": {},
   "outputs": [
    {
     "data": {
      "text/plain": [
       "138250000.0"
      ]
     },
     "execution_count": 25,
     "metadata": {},
     "output_type": "execute_result"
    }
   ],
   "source": [
    "mean_market_cap"
   ]
  },
  {
   "cell_type": "code",
   "execution_count": null,
   "metadata": {
    "collapsed": true
   },
   "outputs": [],
   "source": []
  },
  {
   "cell_type": "code",
   "execution_count": 44,
   "metadata": {},
   "outputs": [],
   "source": [
    "res4 = list(map(parse_number, data['Cash']))"
   ]
  },
  {
   "cell_type": "code",
   "execution_count": 45,
   "metadata": {},
   "outputs": [
    {
     "data": {
      "text/plain": [
       "[233000000.0,\n",
       " 79000000.0,\n",
       " 16000000.0,\n",
       " 21000000.0,\n",
       " 14000000.0,\n",
       " 18000000.0,\n",
       " 11000000.0,\n",
       " -1,\n",
       " 11000000.0,\n",
       " -1,\n",
       " 4000000.0,\n",
       " -1,\n",
       " 6000000.0,\n",
       " 2000000.0,\n",
       " 10000000.0,\n",
       " 5000000.0,\n",
       " 11000000.0,\n",
       " -1,\n",
       " 5000000.0,\n",
       " -1]"
      ]
     },
     "execution_count": 45,
     "metadata": {},
     "output_type": "execute_result"
    }
   ],
   "source": [
    "res4"
   ]
  },
  {
   "cell_type": "code",
   "execution_count": 49,
   "metadata": {},
   "outputs": [],
   "source": [
    "res5=[x for x in res4 if x!=-1]"
   ]
  },
  {
   "cell_type": "code",
   "execution_count": 50,
   "metadata": {},
   "outputs": [
    {
     "data": {
      "text/plain": [
       "29733333.333333332"
      ]
     },
     "execution_count": 50,
     "metadata": {},
     "output_type": "execute_result"
    }
   ],
   "source": [
    "sum(res5)/len(res5)"
   ]
  },
  {
   "cell_type": "code",
   "execution_count": null,
   "metadata": {
    "collapsed": true
   },
   "outputs": [],
   "source": []
  }
 ],
 "metadata": {
  "kernelspec": {
   "display_name": "Python 3",
   "language": "python",
   "name": "python3"
  },
  "language_info": {
   "codemirror_mode": {
    "name": "ipython",
    "version": 3
   },
   "file_extension": ".py",
   "mimetype": "text/x-python",
   "name": "python",
   "nbconvert_exporter": "python",
   "pygments_lexer": "ipython3",
   "version": "3.6.3"
  }
 },
 "nbformat": 4,
 "nbformat_minor": 2
}
